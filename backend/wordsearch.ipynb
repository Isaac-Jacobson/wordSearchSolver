{
  "nbformat": 4,
  "nbformat_minor": 0,
  "metadata": {
    "colab": {
      "provenance": []
    },
    "kernelspec": {
      "name": "python3",
      "display_name": "Python 3"
    },
    "language_info": {
      "name": "python"
    },
    "accelerator": "GPU",
    "gpuClass": "standard"
  },
  "cells": [
    {
      "cell_type": "code",
      "source": [
        "\n",
        "import numpy as np\n",
        "from matplotlib import pyplot as plt\n",
        "import sys\n",
        "\n",
        "import tensorflow as tf\n",
        "from tensorflow import keras\n",
        "\n",
        "from PIL import Image\n",
        "import cv2 as cv\n",
        "\n",
        "from sklearn.model_selection import GridSearchCV\n",
        "from sklearn.svm import SVC\n",
        "from sklearn.decomposition import PCA\n",
        "from sklearn.ensemble import RandomForestClassifier\n",
        "\n",
        "#For displaying images in colab\n",
        "from google.colab.patches import cv2_imshow"
      ],
      "metadata": {
        "id": "ihVz0ET9yWIi"
      },
      "execution_count": 1,
      "outputs": []
    },
    {
      "cell_type": "markdown",
      "source": [
        "# Image Processing"
      ],
      "metadata": {
        "id": "PDCp4ITwwuyV"
      }
    },
    {
      "cell_type": "code",
      "source": [
        "def getPrediction(image, model):\n",
        "  return chr(np.argmax(model.predict(image, verbose=0))+65)"
      ],
      "metadata": {
        "id": "3uPBmeSYncZd"
      },
      "execution_count": 21,
      "outputs": []
    },
    {
      "cell_type": "code",
      "source": [
        "! rm /content/*.png"
      ],
      "metadata": {
        "id": "pu7IxkaK2GaU"
      },
      "execution_count": 29,
      "outputs": []
    },
    {
      "cell_type": "code",
      "execution_count": 14,
      "metadata": {
        "id": "yTBbfpsOwsC9"
      },
      "outputs": [],
      "source": [
        "imgPath = '/content/img.jpg'\n",
        "\n",
        "# Open and invert image\n",
        "img = np.asarray(Image.open(imgPath))\n",
        "img = cv.bitwise_not(img)\n",
        "\n",
        "brightnessThreshold = 150\n",
        "# Binarize \n",
        "img = cv.cvtColor(img, cv.COLOR_BGR2GRAY)\n",
        "ret,bin = cv.threshold(img,brightnessThreshold,255,cv.THRESH_BINARY)\n",
        "\n",
        "#cv2_imshow(bin)"
      ]
    },
    {
      "cell_type": "code",
      "source": [
        "#Find contours in the image\n",
        "contours = cv.findContours(bin, cv.RETR_EXTERNAL, cv.CHAIN_APPROX_SIMPLE)\n",
        "contours = contours[0] if len(contours) == 2 else contours[1]\n",
        "\n",
        "print(\"Found: \" + str(len(contours)) + \" contours\")\n",
        "\n",
        "minArea = 20\n",
        "heightThreshold = 20\n",
        "widthThreshold = 10\n",
        "outPath = \"/content/\"\n",
        "cnt = 0\n",
        "\n",
        "for i, c in enumerate(contours): #For every contour\n",
        "  #print(\"Area: \", cv.contourArea(c))\n",
        "  if cv.contourArea(c) > minArea: #If big enoiugh to be a digit\n",
        "    [X, Y, W, H] = cv.boundingRect(c) #Find hwight, width, and coordinated of bounding box around contour\n",
        "    if(H > heightThreshold and W > widthThreshold): #If contour is tall enough and wide enough to be digit\n",
        "\n",
        "      croppedImage = bin[Y:Y+H, X:X+W] #Crop digit from larger binarized image\n",
        "      temp = cv.resize(croppedImage, dsize=(20, 20), interpolation=cv.INTER_CUBIC)\n",
        "\n",
        "      #Add padding to convert to 28*28\n",
        "      croppedImage = np.concatenate((np.zeros((len(temp), 4)), temp, np.zeros((len(temp), 4))), axis = 1)\n",
        "      croppedImage = np.concatenate((np.zeros((4, len(croppedImage[0]))), croppedImage, np.zeros((4, len(croppedImage[0])))), axis = 0)\n",
        "      croppedImage = np.reshape(np.asarray(croppedImage), (28,28,1))\n",
        "\n",
        "      temp = croppedImage[None, :, :, :]\n",
        "\n",
        "      c = getPrediction(temp, model)\n",
        "\n",
        "\n",
        "      path = outPath + c + \"X\" + str(X) + \"Y\" + str(Y)  + \".png\"\n",
        "      cv.imwrite(path, croppedImage)\n",
        "      cnt += 1\n",
        "print(\"Found: \" + str(cnt) + \" letters\")"
      ],
      "metadata": {
        "colab": {
          "base_uri": "https://localhost:8080/"
        },
        "id": "LsDKOsn20KFw",
        "outputId": "255d284e-c741-4de5-fdb7-ef58d53ecc89"
      },
      "execution_count": 30,
      "outputs": [
        {
          "output_type": "stream",
          "name": "stdout",
          "text": [
            "Found: 198 contours\n",
            "Found: 196 letters\n"
          ]
        }
      ]
    },
    {
      "cell_type": "markdown",
      "source": [
        "# Machine Learning"
      ],
      "metadata": {
        "id": "fvmOHZB556HB"
      }
    },
    {
      "cell_type": "markdown",
      "source": [
        "## Data Prep"
      ],
      "metadata": {
        "id": "OijgKDHqk4aL"
      }
    },
    {
      "cell_type": "code",
      "source": [
        "! pip install extra_keras_datasets"
      ],
      "metadata": {
        "colab": {
          "base_uri": "https://localhost:8080/"
        },
        "id": "nyub0aZo6HQl",
        "outputId": "44655a18-3d25-4a88-8a34-6d3b016765e3"
      },
      "execution_count": 2,
      "outputs": [
        {
          "output_type": "stream",
          "name": "stdout",
          "text": [
            "Looking in indexes: https://pypi.org/simple, https://us-python.pkg.dev/colab-wheels/public/simple/\n",
            "Collecting extra_keras_datasets\n",
            "  Downloading extra_keras_datasets-1.2.0-py3-none-any.whl (12 kB)\n",
            "Requirement already satisfied: scipy in /usr/local/lib/python3.8/dist-packages (from extra_keras_datasets) (1.10.1)\n",
            "Requirement already satisfied: numpy in /usr/local/lib/python3.8/dist-packages (from extra_keras_datasets) (1.22.4)\n",
            "Requirement already satisfied: scikit-learn in /usr/local/lib/python3.8/dist-packages (from extra_keras_datasets) (1.2.1)\n",
            "Requirement already satisfied: pandas in /usr/local/lib/python3.8/dist-packages (from extra_keras_datasets) (1.3.5)\n",
            "Requirement already satisfied: pytz>=2017.3 in /usr/local/lib/python3.8/dist-packages (from pandas->extra_keras_datasets) (2022.7.1)\n",
            "Requirement already satisfied: python-dateutil>=2.7.3 in /usr/local/lib/python3.8/dist-packages (from pandas->extra_keras_datasets) (2.8.2)\n",
            "Requirement already satisfied: threadpoolctl>=2.0.0 in /usr/local/lib/python3.8/dist-packages (from scikit-learn->extra_keras_datasets) (3.1.0)\n",
            "Requirement already satisfied: joblib>=1.1.1 in /usr/local/lib/python3.8/dist-packages (from scikit-learn->extra_keras_datasets) (1.2.0)\n",
            "Requirement already satisfied: six>=1.5 in /usr/local/lib/python3.8/dist-packages (from python-dateutil>=2.7.3->pandas->extra_keras_datasets) (1.15.0)\n",
            "Installing collected packages: extra_keras_datasets\n",
            "Successfully installed extra_keras_datasets-1.2.0\n"
          ]
        }
      ]
    },
    {
      "cell_type": "code",
      "source": [
        "from extra_keras_datasets import emnist\n",
        "(train_images_0, train_labels_0), (test_images_0, test_labels_0) = emnist.load_data(type='balanced')\n",
        "\n",
        "train_images_0 = train_images_0.astype(\"float32\") / 255.0\n",
        "test_images_0 = test_images_0.astype(\"float32\") / 255.0\n",
        "\n",
        "print(train_images_0.shape)"
      ],
      "metadata": {
        "colab": {
          "base_uri": "https://localhost:8080/"
        },
        "id": "QX_TPwjc58Ls",
        "outputId": "2f6afd24-6332-4fa1-ab3b-c33d61377c9c"
      },
      "execution_count": 3,
      "outputs": [
        {
          "output_type": "stream",
          "name": "stdout",
          "text": [
            "Downloading data from http://www.itl.nist.gov/iaui/vip/cs_links/EMNIST/matlab.zip\n",
            "743900280/743900280 [==============================] - 63s 0us/step\n"
          ]
        },
        {
          "output_type": "stream",
          "name": "stderr",
          "text": [
            "WARNING:root:Please cite the following paper when using or referencing this Extra Keras Dataset:\n",
            "WARNING:root:Cohen, G., Afshar, S., Tapson, J., & van Schaik, A. (2017). EMNIST: an extension of MNIST to handwritten letters. Retrieved from http://arxiv.org/abs/1702.05373\n"
          ]
        },
        {
          "output_type": "stream",
          "name": "stdout",
          "text": [
            "(112800, 28, 28)\n"
          ]
        }
      ]
    },
    {
      "cell_type": "code",
      "source": [
        "def printClass(id, num=10):\n",
        "  cnt = 0\n",
        "  for i, l in enumerate(test_labels_0):\n",
        "    if(l == id):\n",
        "      cnt += 1\n",
        "      Image.fromarray(test_images_0[i]).show()\n",
        "      if cnt >= num:\n",
        "        break;\n"
      ],
      "metadata": {
        "id": "gqx4F2UA8BVx"
      },
      "execution_count": 4,
      "outputs": []
    },
    {
      "cell_type": "code",
      "source": [
        "def numInRange(arr, low=10, high=35):\n",
        "  cnt = 0\n",
        "  for i, v in enumerate(arr):\n",
        "    if v >= low and v <= high: cnt+=1\n",
        "  return cnt"
      ],
      "metadata": {
        "id": "C4Gf4n0fcMQy"
      },
      "execution_count": 5,
      "outputs": []
    },
    {
      "cell_type": "code",
      "source": [
        "def classSubset(images, labels, low=10, high=35):\n",
        "  num = numInRange(labels, low=low, high=high)\n",
        "  new_images = np.zeros((num, 28, 28))\n",
        "  new_labels = np.zeros((num, 1))\n",
        "  cnt = 0\n",
        "  for i in range(len(labels)):\n",
        "    if labels[i] <= high and labels[i] >= low:\n",
        "      new_images[cnt] = images[i]\n",
        "      new_labels[cnt] = labels[i]\n",
        "      cnt += 1\n",
        "  return new_images, new_labels\n"
      ],
      "metadata": {
        "id": "kJKrzP2tcl7f"
      },
      "execution_count": 6,
      "outputs": []
    },
    {
      "cell_type": "code",
      "source": [
        "train_images, train_labels = classSubset(train_images_0, train_labels_0)\n",
        "test_images, test_labels = classSubset(test_images_0, test_labels_0)\n",
        "train_images = np.reshape(train_images, (len(train_labels), 28, 28, 1))\n",
        "test_images = np.reshape(test_images, (len(test_labels), 28, 28, 1))\n",
        "train_labels -= 10\n",
        "test_labels -= 10"
      ],
      "metadata": {
        "id": "jR-w-U_Q8yJB"
      },
      "execution_count": 7,
      "outputs": []
    },
    {
      "cell_type": "code",
      "source": [
        "print(np.max(train_labels))"
      ],
      "metadata": {
        "colab": {
          "base_uri": "https://localhost:8080/"
        },
        "id": "xnVZNIISamyZ",
        "outputId": "fcff6edd-a31d-42e0-b68d-1562fe446bf2"
      },
      "execution_count": 143,
      "outputs": [
        {
          "output_type": "stream",
          "name": "stdout",
          "text": [
            "25.0\n"
          ]
        }
      ]
    },
    {
      "cell_type": "code",
      "source": [
        "print(train_images.shape)\n",
        "print(train_labels.shape)\n",
        "\n",
        "print(test_images.shape)\n",
        "print(test_labels.shape)"
      ],
      "metadata": {
        "colab": {
          "base_uri": "https://localhost:8080/"
        },
        "id": "bSawzm7Pk759",
        "outputId": "1ce76f8b-65a1-4664-e0a9-695fda82a449"
      },
      "execution_count": 8,
      "outputs": [
        {
          "output_type": "stream",
          "name": "stdout",
          "text": [
            "(62400, 28, 28, 1)\n",
            "(62400, 1)\n",
            "(10400, 28, 28, 1)\n",
            "(10400, 1)\n"
          ]
        }
      ]
    },
    {
      "cell_type": "markdown",
      "source": [
        "## Model Work"
      ],
      "metadata": {
        "id": "LQI_W5OIk8Ab"
      }
    },
    {
      "cell_type": "code",
      "source": [
        "#setup model\n",
        "model = keras.Sequential([\n",
        "    #keras.layers.Reshape(input_shape=(28*28,), target_shape=(28, 28, 1)),\n",
        "    \n",
        "    #First convolutional layer\n",
        "    keras.layers.Conv2D(kernel_size=3, filters=12, use_bias=False, padding='same'),\n",
        "    keras.layers.BatchNormalization(center=True, scale=False),\n",
        "    keras.layers.Activation('relu'),\n",
        "\n",
        "    #Second convolutional layer\n",
        "    keras.layers.Conv2D(kernel_size=6, filters=24, use_bias=False, padding='same', strides=2),\n",
        "    keras.layers.BatchNormalization(center=True, scale=False),\n",
        "    keras.layers.Activation('relu'),\n",
        "\n",
        "    #Third convolutional layer\n",
        "    keras.layers.Conv2D(kernel_size=6, filters=32, use_bias=False, padding='same', strides=2),\n",
        "    keras.layers.BatchNormalization(center=True, scale=False),\n",
        "    keras.layers.Activation('relu'),\n",
        "\n",
        "    keras.layers.Flatten(),\n",
        "\n",
        "    #First fully connected layer\n",
        "    keras.layers.Dense(200, use_bias=False),\n",
        "    keras.layers.BatchNormalization(center=True, scale=False),\n",
        "    keras.layers.Activation('relu'),\n",
        "\n",
        "    keras.layers.Dropout(0.5),\n",
        "\n",
        "    #Second fully connected layer\n",
        "    keras.layers.Dense(200, use_bias=False),\n",
        "    keras.layers.BatchNormalization(center=True, scale=False),\n",
        "    keras.layers.Activation('relu'),\n",
        "\n",
        "    keras.layers.Dropout(0.5),\n",
        "\n",
        "    #Prediction layer\n",
        "    keras.layers.Dense(26, activation = tf.nn.softmax)\n",
        "])"
      ],
      "metadata": {
        "id": "70SB4S3KlEAP"
      },
      "execution_count": 25,
      "outputs": []
    },
    {
      "cell_type": "markdown",
      "source": [
        "## Training and Evaluation"
      ],
      "metadata": {
        "id": "eW-P2C2Wk_2K"
      }
    },
    {
      "cell_type": "code",
      "source": [
        "#compile model\n",
        "model.compile(optimizer=keras.optimizers.Adam(0.001),\n",
        "          loss='sparse_categorical_crossentropy',\n",
        "          metrics=['accuracy'])\n",
        "\n",
        "#train model, saving the history here will allow us to plot it later\n",
        "historyCNN = model.fit(train_images, train_labels, epochs=14, validation_data=(test_images, test_labels), verbose=1)\n",
        "\n",
        "#evaluate\n",
        "test_loss, test_acc = model.evaluate(test_images,  test_labels, verbose=0)\n",
        "print('Test accuracy:', test_acc)"
      ],
      "metadata": {
        "colab": {
          "base_uri": "https://localhost:8080/"
        },
        "id": "nDYDZjLmsUdA",
        "outputId": "896bfef0-011f-43ca-ace1-6b62f50932ad"
      },
      "execution_count": 28,
      "outputs": [
        {
          "output_type": "stream",
          "name": "stdout",
          "text": [
            "Epoch 1/14\n",
            "1950/1950 [==============================] - 15s 6ms/step - loss: 0.1471 - accuracy: 0.9488 - val_loss: 0.1509 - val_accuracy: 0.9561\n",
            "Epoch 2/14\n",
            "1950/1950 [==============================] - 11s 6ms/step - loss: 0.1434 - accuracy: 0.9506 - val_loss: 0.1408 - val_accuracy: 0.9563\n",
            "Epoch 3/14\n",
            "1950/1950 [==============================] - 11s 6ms/step - loss: 0.1351 - accuracy: 0.9517 - val_loss: 0.1486 - val_accuracy: 0.9535\n",
            "Epoch 4/14\n",
            "1950/1950 [==============================] - 11s 6ms/step - loss: 0.1312 - accuracy: 0.9542 - val_loss: 0.1502 - val_accuracy: 0.9548\n",
            "Epoch 5/14\n",
            "1950/1950 [==============================] - 11s 5ms/step - loss: 0.1255 - accuracy: 0.9554 - val_loss: 0.1459 - val_accuracy: 0.9570\n",
            "Epoch 6/14\n",
            "1950/1950 [==============================] - 11s 6ms/step - loss: 0.1255 - accuracy: 0.9553 - val_loss: 0.1448 - val_accuracy: 0.9560\n",
            "Epoch 7/14\n",
            "1950/1950 [==============================] - 11s 6ms/step - loss: 0.1201 - accuracy: 0.9565 - val_loss: 0.1472 - val_accuracy: 0.9544\n",
            "Epoch 8/14\n",
            "1950/1950 [==============================] - 10s 5ms/step - loss: 0.1152 - accuracy: 0.9576 - val_loss: 0.1453 - val_accuracy: 0.9572\n",
            "Epoch 9/14\n",
            "1950/1950 [==============================] - 10s 5ms/step - loss: 0.1170 - accuracy: 0.9575 - val_loss: 0.1492 - val_accuracy: 0.9568\n",
            "Epoch 10/14\n",
            "1950/1950 [==============================] - 10s 5ms/step - loss: 0.1103 - accuracy: 0.9597 - val_loss: 0.1502 - val_accuracy: 0.9544\n",
            "Epoch 11/14\n",
            "1950/1950 [==============================] - 10s 5ms/step - loss: 0.1078 - accuracy: 0.9594 - val_loss: 0.1486 - val_accuracy: 0.9563\n",
            "Epoch 12/14\n",
            "1950/1950 [==============================] - 10s 5ms/step - loss: 0.1047 - accuracy: 0.9610 - val_loss: 0.1565 - val_accuracy: 0.9561\n",
            "Epoch 13/14\n",
            "1950/1950 [==============================] - 11s 5ms/step - loss: 0.1043 - accuracy: 0.9619 - val_loss: 0.1484 - val_accuracy: 0.9565\n",
            "Epoch 14/14\n",
            "1950/1950 [==============================] - 11s 6ms/step - loss: 0.0991 - accuracy: 0.9621 - val_loss: 0.1535 - val_accuracy: 0.9583\n",
            "Test accuracy: 0.9582692384719849\n"
          ]
        }
      ]
    },
    {
      "cell_type": "code",
      "source": [
        "# Graph the accuracy of the model while it was training against the number of epochs\n",
        "plt.plot(historyCNN.history['accuracy'])\n",
        "plt.plot(historyCNN.history['val_accuracy'])\n",
        "\n",
        "#Plot accuracies of SVM and random forest **Uncomment to plot other model's accuracies**\n",
        "#plt.plot([n for n in range(10)], [svmAccuracy] * 10)\n",
        "#plt.plot([n for n in range(10)], [rfAccuracy] * 10)\n",
        "\n",
        "#plt.plot(rfAccuracy)\n",
        "plt.title('Model Accuracy')\n",
        "plt.ylabel('accuracy')\n",
        "plt.xlabel('epoch')\n",
        "plt.legend(['train', 'test'], loc='lower right')\n",
        "plt.show()\n",
        "\n",
        "# Graph the loss of the model while it was training against the number of epochs\n",
        "plt.plot(historyCNN.history['loss'])\n",
        "plt.plot(historyCNN.history['val_loss'])\n",
        "plt.title('Model Loss')\n",
        "plt.ylabel('loss')\n",
        "plt.xlabel('epoch')\n",
        "plt.legend(['train', 'test'], loc='upper right')\n",
        "plt.show()"
      ],
      "metadata": {
        "colab": {
          "base_uri": "https://localhost:8080/",
          "height": 573
        },
        "id": "RUJtYZPJseMJ",
        "outputId": "5382754a-e0dd-4309-a90a-a1f85c92f28f"
      },
      "execution_count": 12,
      "outputs": [
        {
          "output_type": "display_data",
          "data": {
            "text/plain": [
              "<Figure size 432x288 with 1 Axes>"
            ],
            "image/png": "[encoded data removed]"
          },
          "metadata": {
            "needs_background": "light"
          }
        },
        {
          "output_type": "display_data",
          "data": {
            "text/plain": [
              "<Figure size 432x288 with 1 Axes>"
            ],
            "image/png": "[encoded data removed]"
          },
          "metadata": {
            "needs_background": "light"
          }
        }
      ]
    }
  ]
}
